{
 "cells": [
  {
   "cell_type": "markdown",
   "id": "a1f53753",
   "metadata": {},
   "source": [
    "# Sentiment Analysis of French Text Data"
   ]
  },
  {
   "cell_type": "code",
   "execution_count": 6,
   "id": "46b6284e",
   "metadata": {},
   "outputs": [],
   "source": [
    "import nltk"
   ]
  },
  {
   "cell_type": "markdown",
   "id": "6f69dcfe",
   "metadata": {},
   "source": [
    "The natural language toolkit is a python library that we are importing to conduct experiments with natural language data"
   ]
  },
  {
   "cell_type": "code",
   "execution_count": 7,
   "id": "5e5f50d6",
   "metadata": {},
   "outputs": [
    {
     "ename": "SyntaxError",
     "evalue": "invalid syntax (1597021199.py, line 1)",
     "output_type": "error",
     "traceback": [
      "\u001b[0;36m  File \u001b[0;32m\"/var/folders/rr/t_73jcq165n0mpjk7_2tr0100000gn/T/ipykernel_14241/1597021199.py\"\u001b[0;36m, line \u001b[0;32m1\u001b[0m\n\u001b[0;31m    pip install vaderSentiment-fr\u001b[0m\n\u001b[0m        ^\u001b[0m\n\u001b[0;31mSyntaxError\u001b[0m\u001b[0;31m:\u001b[0m invalid syntax\n"
     ]
    }
   ],
   "source": [
    "pip install vaderSentiment-fr\n",
    "   "
   ]
  },
  {
   "cell_type": "markdown",
   "id": "7c8062af",
   "metadata": {},
   "source": [
    " VADER is used in text sentiment analysis to determine how negative/positive a text is. VADER is a rule based model, so when importing it, we are importing a dictionary of words that have been awarded a score based on the emotion associated with it. "
   ]
  },
  {
   "cell_type": "code",
   "execution_count": 8,
   "id": "5cd9e094",
   "metadata": {},
   "outputs": [],
   "source": [
    "from vaderSentiment_fr.vaderSentiment import SentimentIntensityAnalyzer   "
   ]
  },
  {
   "cell_type": "markdown",
   "id": "b6d0a105",
   "metadata": {},
   "source": [
    "From the Vader package, we are now importing a futher package which analyses the strength of postive and negative emotions in the text. "
   ]
  },
  {
   "cell_type": "code",
   "execution_count": 9,
   "id": "b9da8feb",
   "metadata": {},
   "outputs": [
    {
     "name": "stdout",
     "output_type": "stream",
     "text": [
      "Requirement already satisfied: python-Levenshtein in /opt/anaconda3/lib/python3.9/site-packages (0.12.2)\n",
      "Requirement already satisfied: setuptools in /opt/anaconda3/lib/python3.9/site-packages (from python-Levenshtein) (58.0.4)\n",
      "Note: you may need to restart the kernel to use updated packages.\n"
     ]
    }
   ],
   "source": [
    "pip install python-Levenshtein"
   ]
  },
  {
   "cell_type": "markdown",
   "id": "9807eb21",
   "metadata": {},
   "source": [
    "Levelshtein is a further packaged required for interpreting french data"
   ]
  },
  {
   "cell_type": "code",
   "execution_count": 10,
   "id": "74a18fb4",
   "metadata": {},
   "outputs": [],
   "source": [
    "SIA = SentimentIntensityAnalyzer()"
   ]
  },
  {
   "cell_type": "markdown",
   "id": "e2c9e635",
   "metadata": {},
   "source": [
    " SIA is the variable name as shorthand"
   ]
  },
  {
   "cell_type": "code",
   "execution_count": 11,
   "id": "65c762f3",
   "metadata": {},
   "outputs": [],
   "source": [
    "message_textfr = '''Comme vous, je suis très frustré par ce processus. J'essaie sincèrement d'être aussi raisonnable que possible. Je n'essaie pas de \"retarder\" l'accord à la dernière minute. J'ai peur qu'on me demande de faire un acte de foi assez important après que cette société (je ne parle pas de vous deux - je parle d'Enron) m'a baisé ainsi que les personnes qui travaillent pour moi'''"
   ]
  },
  {
   "cell_type": "markdown",
   "id": "aef6c4e7",
   "metadata": {},
   "source": [
    "    This variable is the text that we are giving to the text we wish to analyse"
   ]
  },
  {
   "cell_type": "code",
   "execution_count": 12,
   "id": "1555bb6e",
   "metadata": {},
   "outputs": [
    {
     "data": {
      "text/plain": [
       "'Comme vous, je suis très frustré par ce processus. J\\'essaie sincèrement d\\'être aussi raisonnable que possible. Je n\\'essaie pas de \"retarder\" l\\'accord à la dernière minute. J\\'ai peur qu\\'on me demande de faire un acte de foi assez important après que cette société (je ne parle pas de vous deux - je parle d\\'Enron) m\\'a baisé ainsi que les personnes qui travaillent pour moi'"
      ]
     },
     "execution_count": 12,
     "metadata": {},
     "output_type": "execute_result"
    }
   ],
   "source": [
    "message_textfr"
   ]
  },
  {
   "cell_type": "code",
   "execution_count": 13,
   "id": "be3e4a99",
   "metadata": {},
   "outputs": [],
   "source": [
    "scores = SIA.polarity_scores(message_textfr)"
   ]
  },
  {
   "cell_type": "markdown",
   "id": "432d0392",
   "metadata": {},
   "source": [
    "Here the text is being input into the sentiment intensity analyser for the programme to run.  The polarirty_score function of the sentiment analyser will give us a value to the text. Since this has been put in the variable of 'scores', when we print scores the programme will run. "
   ]
  },
  {
   "cell_type": "code",
   "execution_count": 14,
   "id": "236eb0c0",
   "metadata": {},
   "outputs": [
    {
     "data": {
      "text/plain": [
       "{'neg': 0.114, 'neu': 0.759, 'pos': 0.128, 'compound': -0.2081}"
      ]
     },
     "execution_count": 14,
     "metadata": {},
     "output_type": "execute_result"
    }
   ],
   "source": [
    "scores"
   ]
  },
  {
   "cell_type": "markdown",
   "id": "18caf8c1",
   "metadata": {},
   "source": [
    "Polarity scores are measured on a scale of +1(postive), to -1 (negative) with 0 being neutral. "
   ]
  },
  {
   "cell_type": "code",
   "execution_count": 15,
   "id": "8775cdec",
   "metadata": {},
   "outputs": [
    {
     "name": "stdout",
     "output_type": "stream",
     "text": [
      "compound: -0.2081, neg: 0.114, neu: 0.759, pos: 0.128, "
     ]
    }
   ],
   "source": [
    "for key in sorted(scores):\n",
    "        print('{0}: {1}, '.format(key, scores[key]), end='')"
   ]
  },
  {
   "cell_type": "markdown",
   "id": "4b248047",
   "metadata": {},
   "source": [
    "## Sentence by Sentence Sentiment Analysis "
   ]
  },
  {
   "cell_type": "code",
   "execution_count": 16,
   "id": "bb16929f",
   "metadata": {},
   "outputs": [],
   "source": [
    "tokenizer = nltk.data.load('tokenizers/punkt/french.pickle')"
   ]
  },
  {
   "cell_type": "markdown",
   "id": "4a71e76e",
   "metadata": {},
   "source": [
    "From NLTK we are importing the punkt/french.pickle tokenizer. A tokenizer is a tool used to split a textinto smaller units. This specific tokenizer is used for french data. "
   ]
  },
  {
   "cell_type": "code",
   "execution_count": 17,
   "id": "86b5fce9",
   "metadata": {},
   "outputs": [],
   "source": [
    "message_textfr = '''Lorsque j'avais six ans j'ai vu, une fois, une magnifique image,\n",
    "dans un livre sur la forêt vierge qui s'appelait «Histoires vécues».\n",
    "Ça représentait un serpent boa qui avalait un\n",
    "fauve. Voilà la copie du dessin'''"
   ]
  },
  {
   "cell_type": "code",
   "execution_count": 18,
   "id": "aae9ec9b",
   "metadata": {},
   "outputs": [],
   "source": [
    "sentences = tokenizer.tokenize(message_textfr)"
   ]
  },
  {
   "cell_type": "markdown",
   "id": "feb3c5b5",
   "metadata": {},
   "source": [
    "Here we are inputting our text into the tokenizer tool. We capture the output by labeling it to a variable called 'sentences'"
   ]
  },
  {
   "cell_type": "code",
   "execution_count": 19,
   "id": "72397ac7",
   "metadata": {
    "scrolled": true
   },
   "outputs": [
    {
     "data": {
      "text/plain": [
       "[\"Lorsque j'avais six ans j'ai vu, une fois, une magnifique image,\\ndans un livre sur la forêt vierge qui s'appelait «Histoires vécues».\",\n",
       " 'Ça représentait un serpent boa qui avalait un\\nfauve.',\n",
       " 'Voilà la copie du dessin']"
      ]
     },
     "execution_count": 19,
     "metadata": {},
     "output_type": "execute_result"
    }
   ],
   "source": [
    "sentences"
   ]
  },
  {
   "cell_type": "markdown",
   "id": "3158237d",
   "metadata": {},
   "source": [
    "When we print sentences, our text data is split up into sentence blocks."
   ]
  },
  {
   "cell_type": "code",
   "execution_count": 20,
   "id": "5d027d01",
   "metadata": {},
   "outputs": [
    {
     "name": "stdout",
     "output_type": "stream",
     "text": [
      "Lorsque j'avais six ans j'ai vu, une fois, une magnifique image,\n",
      "dans un livre sur la forêt vierge qui s'appelait «Histoires vécues».\n",
      "compound: 0.5423, neg: 0.068, neu: 0.712, pos: 0.22, \n",
      "Ça représentait un serpent boa qui avalait un\n",
      "fauve.\n",
      "compound: 0.0, neg: 0.0, neu: 1.0, pos: 0.0, \n",
      "Voilà la copie du dessin\n",
      "compound: 0.0, neg: 0.0, neu: 1.0, pos: 0.0, \n"
     ]
    }
   ],
   "source": [
    "for sentence in sentences:\n",
    "        print(sentence)\n",
    "        scores = SIA.polarity_scores(sentence)\n",
    "        for key in sorted(scores):\n",
    "                print('{0}: {1}, '.format(key, scores[key]), end='')\n",
    "        print()"
   ]
  },
  {
   "cell_type": "markdown",
   "id": "8dcdc4f2",
   "metadata": {},
   "source": [
    "For each sentence in the variable sentences, the sentence will be printed, and its sentiment intensity score printed for each sentence between 0-1"
   ]
  }
 ],
 "metadata": {
  "kernelspec": {
   "display_name": "Python 3 (ipykernel)",
   "language": "python",
   "name": "python3"
  },
  "language_info": {
   "codemirror_mode": {
    "name": "ipython",
    "version": 3
   },
   "file_extension": ".py",
   "mimetype": "text/x-python",
   "name": "python",
   "nbconvert_exporter": "python",
   "pygments_lexer": "ipython3",
   "version": "3.9.7"
  }
 },
 "nbformat": 4,
 "nbformat_minor": 5
}
